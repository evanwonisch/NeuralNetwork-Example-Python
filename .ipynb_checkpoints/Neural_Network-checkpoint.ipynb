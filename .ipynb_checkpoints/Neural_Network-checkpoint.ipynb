{
 "cells": [
  {
   "cell_type": "markdown",
   "metadata": {},
   "source": [
    "# Neural Network\n",
    "These are functions needed for the Neural Network"
   ]
  },
  {
   "cell_type": "code",
   "execution_count": 1,
   "metadata": {},
   "outputs": [],
   "source": [
    "import numpy as np\n",
    "from matplotlib import pyplot as plt"
   ]
  },
  {
   "cell_type": "code",
   "execution_count": 2,
   "metadata": {},
   "outputs": [],
   "source": [
    "def initialise_network(network_structure):\n",
    "    for i in range(1, len(network_structure)):\n",
    "        network_structure[i][\"W\"] = np.random.randn(network_structure[i][\"size\"], network_structure[i-1][\"size\"]) * 0.1\n",
    "        network_structure[i][\"b\"] = np.zeros((network_structure[i][\"size\"], 1))\n",
    "        \n",
    "    return network_structure"
   ]
  },
  {
   "cell_type": "code",
   "execution_count": 3,
   "metadata": {},
   "outputs": [],
   "source": [
    "def forward_propagation(network, X):\n",
    "    assert(X.shape[0] == network[0][\"size\"])\n",
    "    network[0][\"A\"] = X\n",
    "    for i in range(1, len(network)):\n",
    "        network[i][\"Z\"] = (network[i][\"W\"] @ network[i-1][\"A\"]) + network[i][\"b\"]\n",
    "        network[i][\"A\"] = activation_function(network[i][\"Z\"], network[i][\"activation\"] )\n",
    "        "
   ]
  },
  {
   "cell_type": "code",
   "execution_count": 4,
   "metadata": {},
   "outputs": [],
   "source": [
    "def sigmoid(Z):\n",
    "     return 1 / (1 + np.exp(-Z))\n",
    "\n",
    "def sigmoid_derivative(Z):\n",
    "    return sigmoid(Z) * (1 - sigmoid(Z))"
   ]
  },
  {
   "cell_type": "code",
   "execution_count": 5,
   "metadata": {},
   "outputs": [],
   "source": [
    "def ReLU(Z):\n",
    "     return np.maximum(0, Z)\n",
    "\n",
    "def ReLU_derivative(Z):\n",
    "    return np.where(Z > 0, 1, 0)"
   ]
  },
  {
   "cell_type": "code",
   "execution_count": 6,
   "metadata": {},
   "outputs": [],
   "source": [
    "def Tanh(Z):\n",
    "    return np.tanh(Z)\n",
    "\n",
    "def Tanh_derivative(Z):\n",
    "    return 1 - (Tanh(Z) * Tanh(Z))"
   ]
  },
  {
   "cell_type": "code",
   "execution_count": 7,
   "metadata": {},
   "outputs": [],
   "source": [
    "def LeakyReLU(Z):\n",
    "    return np.where(Z > 0, Z, 0.1 * Z)\n",
    "\n",
    "def LeakyReLU_derivative(Z):\n",
    "    return np.where(Z > 0, 1, 0.1)"
   ]
  },
  {
   "cell_type": "code",
   "execution_count": 8,
   "metadata": {},
   "outputs": [],
   "source": [
    "def nan(M):\n",
    "    if np.any(np.isnan(M)):\n",
    "        return True\n",
    "    else:\n",
    "        return False"
   ]
  },
  {
   "cell_type": "code",
   "execution_count": 9,
   "metadata": {},
   "outputs": [],
   "source": [
    "def nanExcept(M, text):\n",
    "    if nan(M):\n",
    "        raise Exception(\"Nan Exception Code: \", text)"
   ]
  },
  {
   "cell_type": "code",
   "execution_count": 10,
   "metadata": {},
   "outputs": [],
   "source": [
    "def Softmax(Z):\n",
    "    nanExcept(Z, \"Z input Softmax\")\n",
    "    #getting max value for each column\n",
    "    maxs = np.amax(Z, axis = 0, keepdims = True)\n",
    "    Z_diminished = Z\n",
    "    if nan(Z_diminished):\n",
    "        print(\"Z_DIM\")\n",
    "        print(Z, maxs, Z_diminished)\n",
    "    \n",
    "    #Softmax\n",
    "    exp = np.exp(Z_diminished)\n",
    "    exp_sums = np.sum(exp, axis = 0, keepdims = True)\n",
    "    result = exp / (exp_sums + 0.00000001)\n",
    "    nanExcept(result, \"Softmax\")\n",
    "    return result"
   ]
  },
  {
   "cell_type": "code",
   "execution_count": 11,
   "metadata": {},
   "outputs": [],
   "source": [
    "def activation_function(Z, activation):\n",
    "    if activation == \"Sigmoid\":\n",
    "        return sigmoid(Z)\n",
    "    elif activation == \"ReLU\":\n",
    "        return ReLU(Z)\n",
    "    elif activation == \"Tanh\":\n",
    "        return Tanh(Z)\n",
    "    elif activation == \"LeakyReLU\":\n",
    "        return LeakyReLU(Z)\n",
    "    elif activation == \"Softmax\":\n",
    "        return Softmax(Z)\n",
    "    else:\n",
    "        raise Exception(\"Activation Function not defined\")"
   ]
  },
  {
   "cell_type": "code",
   "execution_count": 12,
   "metadata": {},
   "outputs": [],
   "source": [
    "def compute_cost(network, X, Y):\n",
    "    forward_propagation(network, X)\n",
    "    AL = network[-1][\"A\"]\n",
    "    assert(AL.shape == Y.shape)\n",
    "    if network[-1][\"loss\"] == \"MSE\":\n",
    "        mse = (1 / Y.shape[1]) * np.sum(MSE_loss(AL, Y), axis = 1, keepdims = True)\n",
    "        return mse.item(0)\n",
    "    if network[-1][\"loss\"] == \"CrossEntropy\":\n",
    "        crossE = (1 / Y.shape[1]) * np.sum(Cross_Entropy_loss(AL, Y), axis = 1, keepdims = True)\n",
    "        return crossE.item(0)\n",
    "    else:\n",
    "        raise Exception(\"Loss Function not defined\")\n",
    "    "
   ]
  },
  {
   "cell_type": "code",
   "execution_count": 13,
   "metadata": {},
   "outputs": [],
   "source": [
    "def MSE_loss(AL, Y):\n",
    "    diff = AL - Y\n",
    "    square_diff = diff * diff\n",
    "    mse_loss = (1 / Y.shape[0]) * np.sum(square_diff, axis = 0, keepdims = True)\n",
    "    return mse_loss"
   ]
  },
  {
   "cell_type": "code",
   "execution_count": 14,
   "metadata": {},
   "outputs": [],
   "source": [
    "def Cross_Entropy_loss(AL, Y):\n",
    "    result = -Y * np.log(AL)\n",
    "    result = np.sum(result, axis = 0, keepdims = True)\n",
    "    \n",
    "    nanExcept(result, \"Cross Entropy\")\n",
    "    return result"
   ]
  },
  {
   "cell_type": "code",
   "execution_count": 15,
   "metadata": {},
   "outputs": [],
   "source": [
    "def backward_cost(network, Y):\n",
    "    AL = network[-1][\"A\"]\n",
    "    assert(AL.shape == Y.shape)\n",
    "    n = AL.shape[0]\n",
    "    if network[-1][\"loss\"] == \"MSE\":\n",
    "        return (2 / n) * (AL - Y)\n",
    "    else:\n",
    "        raise Exception(\"Loss Function Derivative not defined\")"
   ]
  },
  {
   "cell_type": "code",
   "execution_count": 16,
   "metadata": {},
   "outputs": [],
   "source": [
    "def backward_activation(dA, layer):\n",
    "    if layer[\"activation\"] == \"Sigmoid\":\n",
    "        return dA * (layer[\"A\"] * (1 - layer[\"A\"]))\n",
    "    elif layer[\"activation\"] == \"ReLU\":\n",
    "        return dA * ReLU_derivative(layer[\"Z\"])\n",
    "    elif layer[\"activation\"] == \"Tanh\":\n",
    "        return dA * (1 - (layer[\"A\"] * layer[\"A\"]))\n",
    "    elif layer[\"activation\"] == \"LeakyReLU\":\n",
    "        return dA * LeakyReLU_derivative(layer[\"Z\"])\n",
    "    elif layer[\"activation\"] == \"Softmax\":\n",
    "        return layer[\"A\"] * (dA - np.sum(dA * layer[\"A\"], axis = 0, keepdims = True))\n",
    "    else:\n",
    "        raise Exception(\"Activation Function Derivative not defined\")"
   ]
  },
  {
   "cell_type": "code",
   "execution_count": 17,
   "metadata": {},
   "outputs": [],
   "source": [
    "def backward_propagation(network, Y, learning_rate, epoch):\n",
    "    L = len(network) - 1\n",
    "    m = Y.shape[1]\n",
    "    \n",
    "    #special Case: Softmax Regression\n",
    "    if(network[L][\"activation\"] == \"Softmax\" and network[L][\"loss\"] == \"CrossEntropy\"):\n",
    "        dZ = network[L][\"A\"] - Y\n",
    "    else:\n",
    "        dA = backward_cost(network, Y)\n",
    "        dZ = backward_activation(dA, network[L])\n",
    "        \n",
    "    \n",
    "    for layer in reversed(range(1, L + 1)):\n",
    "        network[layer][\"dW\"] = (1 / m) * dZ @ network[layer - 1][\"A\"].T\n",
    "        network[layer][\"db\"] = (1 / m) * np.sum(dZ, axis = 1, keepdims = 1)\n",
    "        \n",
    "        #Deriving to next (previous) layer\n",
    "        if layer != 1:\n",
    "            dA = network[layer][\"W\"].T @ dZ\n",
    "            dZ = backward_activation(dA, network[layer - 1])\n",
    "            \n",
    "        #Storing Momentun\n",
    "        beta1 = 0.9\n",
    "        network[layer][\"vW\"] = beta1 * network[layer][\"vW\"] + (1 - beta1) * network[layer][\"dW\"]\n",
    "        network[layer][\"vb\"] = beta1 * network[layer][\"vb\"] + (1 - beta1) * network[layer][\"db\"]\n",
    "        \n",
    "        \n",
    "        #Storing RMSProp\n",
    "        beta2 = 0.99\n",
    "        network[layer][\"aW\"] = beta2 * network[layer][\"aW\"] + (1 - beta2) * (network[layer][\"dW\"] ** 2)\n",
    "        network[layer][\"ab\"] = beta2 * network[layer][\"ab\"] + (1 - beta2) * (network[layer][\"db\"] ** 2)\n",
    "        \n",
    "        \n",
    "        #Applying Step\n",
    "        network[layer][\"W\"] = network[layer][\"W\"] - learning_rate * (network[layer][\"vW\"] / (np.sqrt(network[layer][\"aW\"]) + 0.000000001))\n",
    "        network[layer][\"b\"] = network[layer][\"b\"] - learning_rate * (network[layer][\"vb\"] / (np.sqrt(network[layer][\"ab\"]) + 0.000000001))\n",
    "        \n",
    "        "
   ]
  },
  {
   "cell_type": "code",
   "execution_count": 18,
   "metadata": {},
   "outputs": [],
   "source": [
    "def model_fit(network, X_set, Y_set, batch_size, learning_rate, num_iterations, print_cost = True):\n",
    "    assert(X_set.shape[1] == Y_set.shape[1])\n",
    "    assert(batch_size <= X_set.shape[1])\n",
    "    \n",
    "    if not \"W\" in network[1]:\n",
    "        print(\"Initialising Network...\")\n",
    "        initialise_network(network)\n",
    "        \n",
    "    if not \"dW\" in network[1]:\n",
    "        for layer in range(1, len(network)):\n",
    "            #Momentum\n",
    "            network[layer][\"vW\"] = np.zeros(network[layer][\"W\"].shape)\n",
    "            network[layer][\"vb\"] = np.zeros(network[layer][\"b\"].shape)\n",
    "            \n",
    "            #AdaGrad\n",
    "            network[layer][\"aW\"] = np.zeros(network[layer][\"W\"].shape)\n",
    "            network[layer][\"ab\"] = np.zeros(network[layer][\"b\"].shape)\n",
    "    \n",
    "    costs = []\n",
    "    \n",
    "    for epoch in range(0, num_iterations):\n",
    "        \n",
    "        #Creating Batch\n",
    "        randomIndices = np.random.randint(X_set.shape[1], size = batch_size)\n",
    "        X = X_set[:,randomIndices]\n",
    "        Y = Y_set[:,randomIndices]\n",
    "        \n",
    "        #Whole Cycle\n",
    "        forward_propagation(network, X)\n",
    "        backward_propagation(network, Y, learning_rate, epoch)\n",
    "        \n",
    "        if epoch % 1000 == 0 and print_cost:\n",
    "            cost = compute_cost(network, X_set, Y_set)\n",
    "            costs.append(cost)\n",
    "            print(\"Current Cost at: \", cost)\n",
    "            \n",
    "    return costs"
   ]
  },
  {
   "cell_type": "markdown",
   "metadata": {},
   "source": [
    "\n",
    "# Classification Problem\n",
    "### Problem Description\n",
    "\n",
    "In this Notebook we like to demonstrate the ability of a neural Network to perform multi-class Classification.\n",
    "In this example we will classify Points on the 2D plane into 3 different classes:\n",
    "\n",
    "Class 0: blue<br>\n",
    "Class 1: orange<br>\n",
    "Class 2: green<br>\n",
    "\n",
    "### Network\n",
    "\n",
    "The network's input will be a 2D-vector representing the point X and Y coordinates\n",
    "This vector will be transformed by multiple layers to a 3-neuron output layer.\n",
    "The output layer uses CrossEntropy activation and gives probabilities of the input point belonging to one of the classes:\n",
    "\n",
    "[0.2]<br>\n",
    "[0.1]<br>\n",
    "[0.7] ---> Biggest Probability : Class 2<br>\n",
    "\n",
    "### Optimization\n",
    "\n",
    "The implementation above uses Adam Optimization.\n",
    "It first calculates the partial derivatives of the Loss with respect to all the weights of the Network,<br>\n",
    "then smoothes them by calculating averages between different timesteps<br>and finally substracts these derivatives, scaled by the learning rate, from the actual weight."
   ]
  },
  {
   "cell_type": "markdown",
   "metadata": {},
   "source": [
    "## Generating Traing Data"
   ]
  },
  {
   "cell_type": "code",
   "execution_count": 32,
   "metadata": {},
   "outputs": [
    {
     "data": {
      "image/png": "[encoded data removed]",
      "text/plain": [
       "<Figure size 432x288 with 1 Axes>"
      ]
     },
     "metadata": {
      "needs_background": "light"
     },
     "output_type": "display_data"
    }
   ],
   "source": [
    "import keras.utils\n",
    "\n",
    "m = 8000\n",
    "X = np.random.rand(2, m) * 10 - 5\n",
    "Y = np.zeros((1, m))\n",
    "Y = np.where(np.sin(X[1,:] * X[0,:]) < 0, 1 , Y[0:]).reshape(1, m)\n",
    "Y = np.where(np.tan(X[0,:] * X[1,:]) < 0, 2 , Y[0:]).reshape(1, m)\n",
    "plt.scatter(np.where(Y[0,:] == 0, X[0,:], 0), np.where(Y[0,:] == 0, X[1,:], 0))\n",
    "plt.scatter(np.where(Y[0,:] == 1, X[0,:], 0), np.where(Y[0,:] == 1, X[1,:], 0))\n",
    "plt.scatter(np.where(Y[0,:] == 2, X[0,:], 0), np.where(Y[0,:] == 2, X[1,:], 0))\n",
    "\n",
    "Y = keras.utils.to_categorical(Y, 3).squeeze().T"
   ]
  },
  {
   "cell_type": "markdown",
   "metadata": {},
   "source": [
    "## Generating Model"
   ]
  },
  {
   "cell_type": "code",
   "execution_count": 65,
   "metadata": {},
   "outputs": [],
   "source": [
    "network = [\n",
    "    {\"size\": 2},\n",
    "    {\"size\":15,\"activation\":\"LeakyReLU\"},\n",
    "    {\"size\":15,\"activation\":\"LeakyReLU\"},\n",
    "    {\"size\":15,\"activation\":\"LeakyReLU\"},\n",
    "    {\"size\":15,\"activation\":\"LeakyReLU\"},\n",
    "    {\"size\":15,\"activation\":\"LeakyReLU\"},\n",
    "    {\"size\":15,\"activation\":\"LeakyReLU\"},\n",
    "    {\"size\":3, \"activation\":\"Softmax\", \"loss\":\"CrossEntropy\"}\n",
    "]"
   ]
  },
  {
   "cell_type": "code",
   "execution_count": 66,
   "metadata": {},
   "outputs": [
    {
     "name": "stdout",
     "output_type": "stream",
     "text": [
      "Initialising Network...\n",
      "Current Cost at:  1.092748225103243\n",
      "Current Cost at:  0.47844131024185643\n",
      "Current Cost at:  0.3907604713907531\n",
      "Current Cost at:  0.32537528268030746\n",
      "Current Cost at:  0.33276790717838567\n",
      "Current Cost at:  0.2702811983520074\n",
      "Current Cost at:  0.2576682085048305\n",
      "Current Cost at:  0.2494809041767199\n",
      "Current Cost at:  0.22859853702935637\n",
      "Current Cost at:  0.2611250693997092\n",
      "Current Cost at:  0.22452009586730032\n",
      "Current Cost at:  0.24398618823245422\n",
      "Current Cost at:  0.21871496462715187\n",
      "Current Cost at:  0.16874109017999242\n",
      "Current Cost at:  0.2137477220837321\n",
      "Current Cost at:  0.19656330138113298\n",
      "Current Cost at:  0.17781413979808827\n",
      "Current Cost at:  0.15906358505820622\n",
      "Current Cost at:  0.15214790043927304\n",
      "Current Cost at:  0.16966602174826995\n"
     ]
    },
    {
     "data": {
      "text/plain": [
       "[<matplotlib.lines.Line2D at 0x1eff771f048>]"
      ]
     },
     "execution_count": 66,
     "metadata": {},
     "output_type": "execute_result"
    },
    {
     "data": {
      "image/png": "[encoded data removed]",
      "text/plain": [
       "<Figure size 432x288 with 1 Axes>"
      ]
     },
     "metadata": {
      "needs_background": "light"
     },
     "output_type": "display_data"
    }
   ],
   "source": [
    "costs = model_fit(network, X, Y, 600, 0.01, 20000)\n",
    "plt.plot(costs)"
   ]
  },
  {
   "cell_type": "markdown",
   "metadata": {},
   "source": [
    "## Results"
   ]
  },
  {
   "cell_type": "code",
   "execution_count": 53,
   "metadata": {},
   "outputs": [
    {
     "data": {
      "image/png": "[encoded data removed]",
      "text/plain": [
       "<Figure size 432x288 with 1 Axes>"
      ]
     },
     "metadata": {
      "needs_background": "light"
     },
     "output_type": "display_data"
    }
   ],
   "source": [
    "#Plotting Results\n",
    "m = 8000\n",
    "zoom = 10\n",
    "X_test = np.random.rand(2, m) * zoom - zoom / 2\n",
    "forward_propagation(network, X_test)\n",
    "Y_test = network[-1][\"A\"]\n",
    "Y_test = np.argmax(Y_test, axis = 0).reshape(1,m)\n",
    "fig = plt.figure()\n",
    "ax = plt.axes()\n",
    "ax.scatter(np.where(Y_test[0,:] == 0, X_test[0,:], 0), np.where(Y_test[0,:] == 0, X_test[1,:], 0))\n",
    "ax.scatter(np.where(Y_test[0,:] == 1, X_test[0,:], 0), np.where(Y_test[0,:] == 1, X_test[1,:], 0))\n",
    "ax.scatter(np.where(Y_test[0,:] == 2, X_test[0,:], 0), np.where(Y_test[0,:] == 2, X_test[1,:], 0))\n",
    "\n",
    "plt.show()"
   ]
  },
  {
   "cell_type": "markdown",
   "metadata": {},
   "source": [
    "## Generate Movie Frames"
   ]
  },
  {
   "cell_type": "code",
   "execution_count": null,
   "metadata": {},
   "outputs": [],
   "source": [
    "for i in range(300):\n",
    "    model_fit(network, X, Y, 600, 0.001, 3)\n",
    "    #Plotting Results\n",
    "    m = 8000\n",
    "    zoom = 10\n",
    "    X_test = np.random.rand(2, m) * zoom - zoom / 2\n",
    "    forward_propagation(network, X_test)\n",
    "    Y_test = network[-1][\"A\"]\n",
    "    Y_test = np.argmax(Y_test, axis = 0).reshape(1,m)\n",
    "    fig = plt.figure()\n",
    "    ax = plt.axes()\n",
    "    ax.scatter(np.where(Y_test[0,:] == 0, X_test[0,:], 0), np.where(Y_test[0,:] == 0, X_test[1,:], 0))\n",
    "    ax.scatter(np.where(Y_test[0,:] == 1, X_test[0,:], 0), np.where(Y_test[0,:] == 1, X_test[1,:], 0))\n",
    "    ax.scatter(np.where(Y_test[0,:] == 2, X_test[0,:], 0), np.where(Y_test[0,:] == 2, X_test[1,:], 0))\n",
    "\n",
    "    fig.savefig(\"img/img\"+str(i)+\".png\")"
   ]
  }
 ],
 "metadata": {
  "kernelspec": {
   "display_name": "Python 3",
   "language": "python",
   "name": "python3"
  },
  "language_info": {
   "codemirror_mode": {
    "name": "ipython",
    "version": 3
   },
   "file_extension": ".py",
   "mimetype": "text/x-python",
   "name": "python",
   "nbconvert_exporter": "python",
   "pygments_lexer": "ipython3",
   "version": "3.7.7"
  }
 },
 "nbformat": 4,
 "nbformat_minor": 2
}
